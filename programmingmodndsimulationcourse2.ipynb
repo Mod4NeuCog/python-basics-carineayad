{
 "cells": [
  {
   "cell_type": "code",
   "execution_count": null,
   "id": "87b866d2-31fd-46e5-be95-cf05a161c651",
   "metadata": {},
   "outputs": [],
   "source": [
    "##my laptop was out of battery during the class, i wrote the code on a paper \n",
    "#Exercise 5 \n",
    "import sys \n",
    "\n",
    "def main():\n",
    "    weight = float(input())\n",
    "    Synaptic = 10\n",
    "    V_membrane_Pot = 2\n",
    "\n",
    "    V_membrane_Pot = V_membrane_Pot + synaptic * weight \n",
    "    print(V_membrane_Pot)\n",
    "\n",
    "if __name__ == \"__main__\":\n",
    "    main()"
   ]
  },
  {
   "cell_type": "code",
   "execution_count": null,
   "id": "85580d80-398e-4f56-8763-7e4b5e09ad6a",
   "metadata": {},
   "outputs": [],
   "source": [
    "#Exercice 6 \n",
    "def membrane_PA(n):\n",
    "    membrane = float(n)*40\n",
    "    print(membrane = \")\n",
    "    print(membrane)\n",
    "\n",
    "def membrane_PA2(n,i,j):\n",
    "    #3 parameters received from simulate()\n",
    "    V_membrane_PA = n\n",
    "    synaptic = i \n",
    "    weight = j \n",
    "    V_membrane_PA = V_membrane_PA + synaptic*weight\n",
    "    print(\"membrane 1\" + str(V_membrane_PA))\n",
    "\n",
    "def Simulate():\n",
    "    #i have three variables here \n",
    "    #i receive 2 of them from the user \n",
    "    weight = float(input(\"enter synaptic\"))\n",
    "    synaptic = float(input(\"enter spike\"))\n",
    "    V_membrane_PA = 1\n",
    "\n",
    "\n",
    "    membrane_PA(spike) \n",
    "    membrane_PA2(V_membrane_PA, synaptic, weight)\n",
    "\n",
    "def main():\n",
    "    Simulate()\n",
    "\n",
    "if_name_ == \"__main__\":\n",
    "    main()"
   ]
  },
  {
   "cell_type": "code",
   "execution_count": null,
   "id": "06e099d1-1f1e-4574-a5be-8dccf6e2f7f1",
   "metadata": {},
   "outputs": [],
   "source": [
    "def Simulate():  \n",
    "    spike_value = (float(input()))\n",
    "    new_membrane_potential = 3\n",
    "    compute_membrane_potential(new_membrane_potential)\n",
    "    new_membrane_potential2(spike_value, new_membrane_potential)\n",
    "    \n",
    "    \n",
    "def compute_membrane_potential(spike_value, current_membrane_potential=0.0):\n",
    "    new_membrane_potential = current_membrane_potential + spike_value\n",
    "    if new_membrane_potential >= -65:\n",
    "        return 5, new_membrane_potential\n",
    "    else:\n",
    "        return 0, new_membrane_potential\n",
    "\n",
    "\n",
    "def new_membrane_potential2(new_membrane_potential, spike_value):\n",
    "    current_membrane_potential = 45\n",
    "    new_membrane_potential = current_membrane_potential + spike_value\n",
    "    print(new_membrane_potential)\n",
    "\n",
    "def main():     #main is calling Simulate method\n",
    "    Simulate()\n",
    "if _name_ == \"_main_\":\n",
    "    main()"
   ]
  }
 ],
 "metadata": {
  "kernelspec": {
   "display_name": "Python 3 (ipykernel)",
   "language": "python",
   "name": "python3"
  },
  "language_info": {
   "codemirror_mode": {
    "name": "ipython",
    "version": 3
   },
   "file_extension": ".py",
   "mimetype": "text/x-python",
   "name": "python",
   "nbconvert_exporter": "python",
   "pygments_lexer": "ipython3",
   "version": "3.11.5"
  }
 },
 "nbformat": 4,
 "nbformat_minor": 5
}
